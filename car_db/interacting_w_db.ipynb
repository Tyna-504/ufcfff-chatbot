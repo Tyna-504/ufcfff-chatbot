{
 "cells": [
  {
   "attachments": {},
   "cell_type": "markdown",
   "metadata": {},
   "source": [
    "# launch sqlite command line tool & create database called modelDB\n",
    "cd C:\\Users\\bisis\\OneDrive\\Documents\\Chatbots\\carbot\\car_db\n",
    "sqlite3 modelDB.db\n",
    "\n",
    "# check it has been created\n",
    ".databases\n",
    "\n",
    "# create new table called 'mercedesmodels' /w the content of mercedes_dataset.csv\n",
    ".import mercedes_dataset.csv mercedesmodels\n",
    "# note: this is actually bullshit, this did not work as expected and I couldn't for the life of me figure out what was wrong down the line. Took me hours... I'm livid. Thanks, stackoverflow\n",
    "\n",
    "# note: to quit sqlite\n",
    ".quit"
   ]
  },
  {
   "attachments": {},
   "cell_type": "markdown",
   "metadata": {},
   "source": [
    "# connecting to our data\n",
    "online tutorial: https://www.sqlitetutorial.net/sqlite-python/sqlite-python-select\n",
    "\n",
    "# creating a connector to talk to the DB (here only locally, but could be a cloud service)"
   ]
  },
  {
   "cell_type": "code",
   "execution_count": 12,
   "metadata": {},
   "outputs": [],
   "source": [
    "import sqlite3\n",
    "# define function that creates connection with the db\n",
    "def create_connection(db_file):\n",
    "    \"\"\" create a database connection to the SQLite database\n",
    "        specified by the db_file\n",
    "    :param db_file: database file\n",
    "    :return: Connection object or None\n",
    "    \"\"\"\n",
    "    conn = None\n",
    "    try:\n",
    "        conn = sqlite3.connect(db_file)\n",
    "    except sqlite3.Error as e:\n",
    "        print(e)\n",
    "\n",
    "    return conn"
   ]
  },
  {
   "cell_type": "code",
   "execution_count": 2,
   "metadata": {},
   "outputs": [
    {
     "data": {
      "text/plain": [
       "<sqlite3.Connection at 0x249e00a0c60>"
      ]
     },
     "execution_count": 2,
     "metadata": {},
     "output_type": "execute_result"
    }
   ],
   "source": [
    "create_connection(\"modelDB.db\")"
   ]
  },
  {
   "cell_type": "code",
   "execution_count": 3,
   "metadata": {},
   "outputs": [],
   "source": [
    "# function that selects all rows from the mercedesmodels table and displays the data\n",
    "# note: this is just to try out the connection, do not do this for every query\n",
    "def select_all_models(conn):\n",
    "    \"\"\"\n",
    "    Query all rows in the tasks table\n",
    "    :param conn: the Connection object\n",
    "    :return:\n",
    "    \"\"\"\n",
    "    cur = conn.cursor()\n",
    "    cur.execute(\"SELECT * FROM mercedesmodels\")\n",
    "    #cur.execute(\"PRAGMA table_info(mercedesmodels);\")\n",
    "\n",
    "\n",
    "    rows = cur.fetchall()\n",
    "\n",
    "    for row in rows:\n",
    "        print(row)"
   ]
  },
  {
   "cell_type": "code",
   "execution_count": 4,
   "metadata": {},
   "outputs": [
    {
     "name": "stdout",
     "output_type": "stream",
     "text": [
      "(1, 'Mercedes-Benz', 'EQE', '300', 'saloon', 'electricity', 'nan', 'nan', 'nan', 'nan', 'electric', 5, 5, 'automatic', 'single-speed', 'RWD', 245, 130, 'nan', 111, 384, '74,345', '50E', 'EU6', 'Y')\n",
      "(2, 'Mercedes-AMG', 'EQE', '53 4MATIC+', 'saloon', 'electricity', 'nan', 'nan', 'nan', 'nan', 'electric', 5, 5, 'automatic', 'single-speed', 'AWD', 265, 137, 'nan', 93, 290, '114,750', '50E', 'EU6', 'Y')\n",
      "(3, 'Mercedes-Benz', 'EQS', '450+', 'saloon', 'electricity', 'nan', 'nan', 'nan', 'nan', 'electric', 5, 5, 'automatic', 'single-speed', 'RWD', 333, 130, 'nan', 103, 464, '105,610', '50E', 'EU6', 'Y')\n",
      "(4, 'Mercedes-AMG', 'EQS', '53 4MATIC+', 'saloon', 'electricity', 'nan', 'nan', 'nan', 'nan', 'electric', 5, 5, 'automatic', 'single-speed', 'AWD', 658, 137, 'nan', 89, 347, '161,860', '50E', 'EU6', 'Y')\n",
      "(5, 'Mercedes-Benz', 'A-Class', 'A 180', 'hatchback', 'petrol', 'in-line', 4, 1.3, 'naturally aspirated', 'combustion engine', 5, 5, 'automatic', '7-speed', 'FWD', 136, 134, 48, 'nan', 'nan', '32,250', '20E-21E', 'EURO 6D-ISC-FCM', 'Y')\n",
      "(6, 'Mercedes-Benz', 'A-Class', 'A 180 d', 'hatchback', 'diesel', 'in-line', 4, 1.9, 'turbocharged', 'combustion engine', 5, 5, 'automatic', '8-speed', 'FWD', 116, 126, 57, 'nan', 'nan', '33,600', '18E-19E', 'EURO 6D-ISC-FCM', 'Y')\n",
      "(7, 'Mercedes-Benz', 'A-Class', 'A 250 e', 'hatchback', 'petrol', 'in-line', 4, 1.3, 'turbocharged', 'plug-in hybrid', 5, 5, 'automatic', '8-speed', 'FWD', 218, 146, 353, 140, 44, '37,895', '30E-32E', 'EURO 6D-ISC-FCM', 'Y')\n",
      "(8, 'Mercedes-Benz', 'A-Class', 'A 180', 'saloon', 'petrol', 'in-line', 4, 1.3, 'turbocharged', 'combustion engine', 5, 5, 'automatic', '7-speed', 'FWD', 136, 134, 44, 'nan', 'nan', '32,345', '20E-21E', 'EURO 6D-ISC-FCM', 'Y')\n",
      "(9, 'Mercedes-Benz', 'A-Class', 'A 180 d', 'saloon', 'diesel', 'in-line', 4, 1.9, 'turbocharged', 'combustion engine', 5, 5, 'automatic', '8-speed', 'FWD', 116, 128, 53, 'nan', 'nan', '33,695', '18E-20E', 'EURO 6D-ISC-FCM', 'Y')\n",
      "(10, 'Mercedes-Benz', 'A-Class', 'A 250 e', 'saloon', 'petrol', 'in-line', 4, 1.3, 'turbocharged', 'plug-in hybrid', 5, 5, 'automatic', '8-speed', 'FWD', 218, 149, 45, 141, 44, '38,490', '31E-32E', 'EURO 6D-ISC-FCM', 'Y')\n",
      "(11, 'Mercedes-AMG', 'A-Class', 'A 35 4MATIC', 'hatchback', 'petrol', 'in-line', 4, 1.9, 'turbocharged', 'combustion engine', 5, 5, 'automatic', '7-speed', 'AWD', 306, 155, 33, 'nan', 'nan', '43,440', '36E-37E', 'EURO 6D-ISC-FCM', 'Y')\n",
      "(12, 'Mercedes-AMG', 'A-Class', 'A 35 4MATIC', 'saloon', 'petrol', 'in-line', 4, 1.9, 'turbocharged', 'combustion engine', 5, 5, 'automatic', '7-speed', 'AWD', 306, 155, 34, 'nan', 'nan', '43,560', '36E-37E', 'EURO 6D-ISC-FCM', 'Y')\n",
      "(13, 'Mercedes-Benz', 'B-Class', 'B 200', 'hatchback', 'petrol', 'in-line', 4, 1.3, 'turbocharged', 'mild hybrid', 5, 5, 'automatic', '7-speed', 'FWD', 177, 139, 46, 'nan', 'nan', '35,100', 'tba', 'EURO 6D-ISC-FCM', 'Y')\n",
      "(14, 'Mercedes-Benz', 'B-Class', 'B 200 d', 'hatchback', 'diesel', 'in-line', 4, 1.9, 'turbocharged', 'combustion engine', 5, 5, 'automatic', '8-speed', 'FWD', 150, 136, 55, 'nan', 'nan', '36,210', 'tba', 'EURO 6D-ISC-FCM', 'Y')\n",
      "(15, 'Mercedes-Benz', 'C-Class', 'C 200', 'saloon', 'petrol', 'in-line', 4, 1.5, 'naturally aspirated', 'mild hybrid', 5, 5, 'automatic', '9-speed', 'RWD', 204, 153, 44, 'nan', 'nan', '44,240', '33E-37E', 'EURO 6D-ISC-FCM', 'Y')\n",
      "(16, 'Mercedes-Benz', 'C-Class', 'C 220 d', 'saloon', 'diesel', 'in-line', 4, 1.9, 'turbocharged', 'mild hybrid', 5, 5, 'automatic', '9-speed', 'RWD', 200, 152, 62, 'nan', 'nan', '45,640', '36E-39E', 'EURO 6D-ISC-FCM', 'Y')\n",
      "(17, 'Mercedes-Benz', 'C-Class', 'C 300 e', 'saloon', 'petrol', 'in-line', 4, 1.9, 'turbocharged', 'plug-in hybrid', 5, 5, 'automatic', '9-speed', 'RWD', 313, 152, 565, 110, 68, '48,710', '43E-45E', 'EURO 6D-ISC-FCM', 'Y')\n",
      "(18, 'Mercedes-Benz', 'C-Class', 'C 200', 'estate', 'petrol', 'in-line', 4, 1.5, 'turbocharged', 'mild hybrid', 5, 5, 'automatic', '9-speed', 'RWD', 204, 149, 42, 'nan', 'nan', '46,155', '33E-37E', 'EURO 6D-ISC-FCM', 'Y')\n",
      "(19, 'Mercedes-Benz', 'C-Class', 'C 220 d', 'estate', 'diesel', 'in-line', 4, 1.9, 'turbocharged', 'mild hybrid', 5, 5, 'automatic', '9-speed', 'RWD', 200, 150, 60, 'nan', 'nan', '47,200', '35E-38E', 'EURO 6D-ISC-FCM', 'Y')\n",
      "(20, 'Mercedes-Benz', 'C-Class', 'C 300 e', 'estate', 'petrol', 'in-line', 4, 1.9, 'turbocharged', 'plug-in hybrid', 5, 5, 'automatic', '9-speed', 'RWD', 313, 149, 470, 106, 65, '56,470', '45E', 'EURO 6D-ISC-FCM', 'Y')\n",
      "(21, 'Mercedes-AMG', 'C-Class', 'C 43 4MATIC', 'saloon', 'petrol', 'in-line', 4, 1.9, 'turbocharged', 'mild hybrid', 5, 5, 'automatic', '9-speed', 'AWD', 422, 155, 32, 'nan', 'nan', '67,110', '44E', 'EURO 6D-ISC-FCM', 'Y')\n",
      "(22, 'Mercedes-AMG', 'C-Class', 'C 43 4MATIC', 'estate', 'petrol', 'in-line', 4, 1.9, 'turbocharged', 'mild hybrid', 5, 5, 'automatic', '9-speed', 'AWD', 422, 155, 31, 'nan', 'nan', '68,670', '44E', 'EURO 6D-ISC-FCM', 'Y')\n",
      "(23, 'Mercedes-Benz', 'C-Class', 'C 200', 'coupe', 'petrol', 'in-line', 4, 1.5, 'turbocharged', 'mild hybrid', 4, 3, 'automatic', '9-speed', 'RWD', 198, 149, 40, 'nan', 'nan', '45,875', '36E', 'EURO 6D-ISC-FCM', 'Y')\n",
      "(24, 'Mercedes-Benz', 'C-Class', 'C 300 d 4MATIC', 'coupe', 'diesel', 'in-line', 4, 1.9, 'turbocharged', 'combustion engine', 4, 3, 'automatic', '9-speed', 'AWD', 245, 155, 50, 'nan', 'nan', '50,695', '41E', 'EURO 6D-ISC-FCM', 'Y')\n",
      "(25, 'Mercedes-Benz', 'C-Class', 'C 200', 'cabriolet', 'petrol', 'in-line', 4, 1.5, 'turbocharged', 'mild hybrid', 4, 3, 'automatic', '9-speed', 'RWD', 198, 146, 38, 'nan', 'nan', '49,450', '39E', 'EURO 6D-ISC-FCM', 'Y')\n",
      "(26, 'Mercedes-Benz', 'C-Class', 'C 300 d', 'cabriolet', 'diesel', 'in-line', 4, 1.9, 'turbocharged', 'combustion engine', 4, 3, 'automatic', '9-speed', 'RWD', 245, 155, 49, 'nan', 'nan', '53,025', '44E', 'EURO 6D-ISC-FCM', 'Y')\n",
      "(27, 'Mercedes-AMG', 'C-Class', 'C 43 4MATIC', 'coupe', 'petrol', 'V', 6, 2.9, 'turbocharged', 'combustion engine', 4, 3, 'automatic', '9-speed', 'RWD', 390, 155, 29, 'nan', 'nan', '60,405', '42E-43E', 'EURO 6D-ISC-FCM', 'Y')\n",
      "(28, 'Mercedes-AMG', 'C-Class', 'C 63 S', 'coupe', 'petrol', 'V', 8, 3.9, 'turbocharged', 'combustion engine', 4, 3, 'automatic', '9-speed', 'AWD', 510, 180, 26, 'nan', 'nan', '88,130', '50E', 'EURO 6D-ISC-FCM', 'Y')\n",
      "(29, 'Mercedes-AMG', 'C-Class', 'C 43 4MATIC', 'cabriolet', 'petrol', 'V', 6, 2.9, 'turbocharged', 'combustion engine', 4, 3, 'automatic', '9-speed', 'RWD', 390, 155, 28, 'nan', 'nan', '64,575', '46E', 'EURO 6D-ISC-FCM', 'Y')\n",
      "(30, 'Mercedes-AMG', 'C-Class', 'C 63 S', 'cabriolet', 'petrol', 'V', 8, 3.9, 'turbocharged', 'combustion engine', 4, 3, 'automatic', '9-speed', 'AWD', 510, 174, 25, 'nan', 'nan', '90,985', '50E', 'EURO 6D-ISC-FCM', 'Y')\n",
      "(31, 'Mercedes-Benz', 'E-Class', 'E 200', 'saloon', 'petrol', 'in-line', 4, 1.9, 'turbocharged', 'mild hybrid', 5, 5, 'automatic', '9-speed', 'RWD', 197, 149, 39, 'nan', 'nan', '48,775', '36E', 'EURO 6D-ISC-FCM', 'Y')\n",
      "(32, 'Mercedes-Benz', 'E-Class', 'E 220 d', 'saloon', 'diesel', 'in-line', 4, 1.9, 'turbocharged', 'mild hybrid', 5, 5, 'automatic', '9-speed', 'RWD', 306, 148, 58, 'nan', 'nan', '49,230', '36E', 'EURO 6D-ISC-FCM', 'Y')\n",
      "(33, 'Mercedes-Benz', 'E-Class', 'E 300 de', 'saloon', 'diesel', 'in-line', 4, 1.9, 'naturally aspirated', 'plug-in hybrid', 5, 5, 'automatic', '9-speed', 'AWD', 211, 149, 217, 133, 34, '58,475', '46E', 'EURO 6D-ISC-FCM', 'Y')\n",
      "(34, 'Mercedes-Benz', 'E-Class', 'E 400 d 4MATIC', 'saloon', 'diesel', 'in-line', 6, 2.9, 'turbocharged', 'combustion engine', 5, 5, 'automatic', '9-speed', 'AWD', 330, 155, 42, 'nan', 'nan', '63,790', '44E', 'EURO 6D-ISC-FCM', 'Y')\n",
      "(35, 'Mercedes-Benz', 'E-Class', 'E 200', 'estate', 'petrol', 'in-line', 4, 1.9, 'turbocharged', 'mild hybrid', 5, 5, 'automatic', '9-speed', 'RWD', 211, 144, 38, 'nan', 'nan', '50,775', '35E', 'EURO 6D-ISC-FCM', 'Y')\n",
      "(36, 'Mercedes-Benz', 'E-Class', 'E 220 d', 'estate', 'diesel', 'in-line', 4, 1.9, 'turbocharged', 'mild hybrid', 5, 5, 'automatic', '9-speed', 'RWD', 220, 144, 55, 'nan', 'nan', '51,270', '41E', 'EURO 6D-ISC-FCM', 'Y')\n",
      "(37, 'Mercedes-Benz', 'E-Class', 'E 300 de', 'estate', 'diesel', 'in-line', 4, 1.9, 'turbocharged', 'plug-in hybrid', 5, 5, 'automatic', '9-speed', 'RWD', 306, 146, 202, 126, 32, '60,475', '46E', 'EURO 6D-ISC-FCM', 'Y')\n",
      "(38, 'Mercedes-Benz', 'E-Class', 'E 400 d 4MATIC', 'estate', 'diesel', 'in-line', 6, 2.9, 'turbocharged', 'combustion engine', 5, 5, 'automatic', '9-speed', 'AWD', 330, 155, 41, 'nan', 'nan', '65,790', '44E', 'EURO 6D-ISC-FCM', 'Y')\n",
      "(39, 'Mercedes-AMG', 'E-Class', 'E 53 4MATIC+', 'saloon', 'petrol', 'in-line', 6, 2.9, 'turbocharged', 'mild hybrid', 5, 5, 'automatic', '9-speed', 'AWD', 457, 155, 31, 'nan', 'nan', '75,240', '43E', 'EURO 6D-ISC-FCM', 'Y')\n",
      "(40, 'Mercedes-AMG', 'E-Class', 'E 63 S 4MATIC+', 'saloon', 'petrol', 'V', 8, 3.9, 'turbocharged', 'combustion engine', 5, 5, 'automatic', '9-speed', 'AWD', 612, 155, 23, 'nan', 'nan', '106,245', '49E', 'EURO 6D-ISC-FCM', 'Y')\n",
      "(41, 'Mercedes-AMG', 'E-Class', 'E 53 4MATIC+', 'estate', 'petrol', 'in-line', 6, 2.9, 'turbocharged', 'mild hybrid', 5, 5, 'automatic', '9-speed', 'AWD', 457, 155, 30, 'nan', 'nan', '77,240', '44E', 'EURO 6D-ISC-FCM', 'Y')\n",
      "(42, 'Mercedes-AMG', 'E-Class', 'E 63 S 4MATIC+', 'estate', 'petrol', 'V', 8, 3.9, 'turbocharged', 'combustion engine', 5, 5, 'automatic', '9-speed', 'AWD', 612, 155, 23, 'nan', 'nan', '108,245', '50E', 'EURO 6D-ISC-FCM', 'Y')\n",
      "(43, 'Mercedes-Benz', 'E-Class', 'E 300', 'coupe', 'petrol', 'in-line', 4, 1.9, 'turbocharged', 'mild hybrid', 4, 3, 'automatic', '9-speed', 'RWD', 259, 155, 36, 'nan', 'nan', '52,240', '41E', 'EURO 6D-ISC-FCM', 'Y')\n",
      "(44, 'Mercedes-Benz', 'E-Class', 'E 400 d 4MATIC', 'coupe', 'diesel', 'in-line', 6, 2.9, 'turbocharged', 'combustion engine', 4, 3, 'automatic', '9-speed', 'AWD', 330, 155, 39, 'nan', 'nan', '67,500', '44E', 'EURO 6D-ISC-FCM', 'Y')\n",
      "(45, 'Mercedes-Benz', 'E-Class', 'E 300', 'cabriolet', 'petrol', 'in-line', 4, 1.9, 'turbocharged', 'mild hybrid', 4, 3, 'automatic', '9-speed', 'RWD', 259, 155, 34, 'nan', 'nan', '57,095', '45E', 'EURO 6D-ISC-FCM', 'Y')\n",
      "(46, 'Mercedes-Benz', 'E-Class', 'E 400 d 4MATIC', 'cabriolet', 'diesel', 'in-line', 6, 2.9, 'turbocharged', 'combustion engine', 4, 3, 'automatic', '9-speed', 'AWD', 330, 155, 38, 'nan', 'nan', '71,530', '47E', 'EURO 6D-ISC-FCM', 'Y')\n",
      "(47, 'Mercedes-AMG', 'E-Class', 'E 53 4MATIC+', 'coupe', 'petrol', 'in-line', 6, 2.9, 'turbocharged', 'mild hybrid', 4, 3, 'automatic', '9-speed', 'AWD', 457, 155, 30, 'nan', 'nan', '76,825', '45E', 'EURO 6D-ISC-FCM', 'Y')\n",
      "(48, 'Mercedes-AMG', 'E-Class', 'E 53 4MATIC+', 'cabriolet', 'petrol', 'in-line', 6, 2.9, 'turbocharged', 'mild hybrid', 4, 3, 'automatic', '9-speed', 'AWD', 457, 155, 30, 'nan', 'nan', '80,375', '48E', 'EURO 6D-ISC-FCM', 'Y')\n",
      "(49, 'Mercedes-Benz', 'S-Class', 'S 500 4MATIC', 'saloon', 'petrol', 'in-line', 6, 2.9, 'turbocharged', 'combustion engine', 5, 5, 'automatic', '9-speed', 'AWD', 449, 155, 34, 'nan', 'nan', '96,565', '50E', 'EURO 6D-ISC-FCM', 'Y')\n",
      "(50, 'Mercedes-Benz', 'S-Class', 'S 350 d', 'saloon', 'diesel', 'in-line', 6, 2.9, 'turbocharged', 'combustion engine', 5, 5, 'automatic', '9-speed', 'RWD', 286, 155, 43, 'nan', 'nan', '86,165', '50E', 'EURO 6D-ISC-FCM', 'Y')\n",
      "(51, 'Mercedes-Benz', 'S-Class', 'S 500 4MATIC L', 'saloon', 'petrol', 'in-line', 6, 2.9, 'turbocharged', 'combustion engine', 5, 5, 'automatic', '9-speed', 'AWD', 449, 155, 33, 'nan', 'nan', '96,565', '50E', 'EURO 6D-ISC-FCM', 'Y')\n",
      "(52, 'Mercedes-Benz', 'S-Class', 'S 350 d L', 'saloon', 'diesel', 'in-line', 6, 2.9, 'turbocharged', 'combustion engine', 5, 5, 'automatic', '9-speed', 'AWD', 286, 155, 41, 'nan', 'nan', '86,165', '50E', 'EURO 6D-ISC-FCM', 'Y')\n",
      "(53, 'Mercedes-Benz', 'S-Class', 'S 400 d 4MATIC L', 'saloon', 'diesel', 'in-line', 6, 2.9, 'turbocharged', 'combustion engine', 5, 5, 'automatic', '9-speed', 'AWD', 330, 155, 40, 'nan', 'nan', '101,360', '50E', 'EURO 6D-ISC-FCM', 'Y')\n",
      "(54, 'Mercedes-Benz', 'S-Class', 'S 580 e L', 'saloon', 'petrol', 'in-line', 6, 2.9, 'naturally aspirated', 'plug-in hybrid', 5, 5, 'automatic', '9-speed', 'RWD', 517, 155, 403, 98, 70, '111,905', '50E', 'EURO 6D-ISC-FCM', 'Y')\n",
      "(55, 'Mercedes-Maybach', 'S-Class', 'S 580 4MATIC', 'saloon', 'petrol', 'V', 8, 3.9, 'turbocharged', 'combustion engine', 5, 5, 'automatic', '9-speed', 'AWD', 503, 155, 26, 'nan', 'nan', '172,960', '50E', 'EURO 6D-ISC-FCM', 'Y')\n",
      "(56, 'Mercedes-Maybach', 'S-Class', 'S 680 4MATIC', 'saloon', 'petrol', 'V', 12, 5.9, 'turbocharged', 'combustion engine', 5, 5, 'automatic', '9-speed', 'AWD', 612, 155, 20, 'nan', 'nan', '216,960', '50E', 'EURO 6D-ISC-FCM', 'Y')\n",
      "(57, 'Mercedes-Benz', 'EQA', 'EQA 250+', 'SUV', 'electricity', 'nan', 'nan', 'nan', 'nan', 'electric', 5, 5, 'automatic', 'single-speed', 'FWD', 190, 99, 'nan', 137, 324, '52,010', '42-44', 'EU6', 'Y')\n",
      "(58, 'Mercedes-Benz', 'EQA', 'EQA 350 4MATIC', 'SUV', 'electricity', 'nan', 'nan', 'nan', 'nan', 'electric', 5, 5, 'automatic', 'single-speed', 'AWD', 292, 99, 'nan', 120, 268, '54,510', '47-48', 'EU6', 'Y')\n",
      "(59, 'Mercedes-Benz', 'EQB', 'EQB 300 4MATIC', 'SUV', 'electricity', 'nan', 'nan', 'nan', 'nan', 'electric', 5, 5, 'automatic', 'single-speed', 'AWD', 228, 99, 'nan', 116, 253, '55,310', '47-48', 'EU6', 'Y')\n",
      "(60, 'Mercedes-Benz', 'EQB', 'EQB 350 4MATIC', 'SUV', 'electricity', 'nan', 'nan', 'nan', 'nan', 'electric', 5, 5, 'automatic', 'single-speed', 'AWD', 292, 99, 'nan', 116, 253, '56,810', '47-48', 'EU6', 'Y')\n",
      "(61, 'Mercedes-Benz', 'EQC', 'EQC 400 4MATIC', 'SUV', 'electricity', 'nan', 'nan', 'nan', 'nan', 'electric', 5, 5, 'automatic', 'single-speed', 'AWD', 408, 112, 'nan', 98, 254, '74,330', '50E', 'EU6', 'Y')\n",
      "(62, 'Mercedes-Benz', 'EQE', 'EQE 350 4MATIC', 'SUV', 'electricity', 'nan', 'nan', 'nan', 'nan', 'electric', 5, 5, 'automatic', 'single-speed', 'AWD', 292, 130, 'nan', 113, 334, '90,560', '50E', 'EU7', 'Y')\n",
      "(63, 'Mercedes-Benz', 'EQE', 'EQE 500 4MATIC', 'SUV', 'electricity', 'nan', 'nan', 'nan', 'nan', 'electric', 5, 5, 'automatic', 'single-speed', 'AWD', 408, 130, 'nan', 110, 324, '108,760', '50E', 'EU8', 'Y')\n",
      "(64, 'Mercedes-Benz', 'GLA', 'GLA 200', 'SUV', 'petrol', 'in-line', 4, 1.3, 'turbocharged', 'combustion engine', 5, 5, 'automatic', '7-speed', 'FWD', 163, 130, 43, 'nan', 'nan', '37,645', '25E-27E', 'EURO 6D-ISC-FCM', 'Y')\n",
      "(65, 'Mercedes-Benz', 'GLA', 'GLA 250 e', 'SUV', 'petrol', 'in-line', 4, 1.3, 'turbocharged', 'plug-in hybrid', 5, 5, 'automatic', '8-speed', 'FWD', 262, 137, 50, 117, 39, '43,385', '36E-37E', 'EURO 6D-ISC-FCM', 'Y')\n",
      "(66, 'Mercedes-Benz', 'GLA', 'GLA 220 d 4MATIC', 'SUV', 'diesel', 'in-line', 4, 1.9, 'turbocharged', 'combustion engine', 5, 5, 'automatic', '8-speed', 'AWD', 190, 136, 202, 'nan', 'nan', '43,440', '31E-32E', 'EURO 6D-ISC-FCM', 'Y')\n",
      "(67, 'Mercedes-AMG', 'GLA', 'GLA 45 S 4MATIC+', 'SUV', 'petrol', 'in-line', 4, 1.9, 'turbocharged', 'combustion engine', 5, 5, 'automatic', '8-speed', 'AWD', 421, 165, 29, 'nan', 'nan', '69,005', '42E', 'EURO 6D-ISC-FCM', 'Y')\n",
      "(68, 'Mercedes-Benz', 'GLB', 'GLB 200', 'SUV', 'petrol', 'in-line', 4, 1.3, 'turbocharged', 'combustion engine', 5, 5, 'automatic', '7-speed', 'FWD', 163, 129, 39, 'nan', 'nan', '39,765', '24E-25E', 'EURO 6D-ISC-FCM', 'Y')\n",
      "(69, 'Mercedes-Benz', 'GLB', 'GLB 220 d 4MATIC', 'SUV', 'diesel', 'in-line', 4, 1.9, 'turbocharged', 'combustion engine', 5, 5, 'automatic', '8-speed', 'AWD', 190, 135, 48, 'nan', 'nan', '44,015', '30E-31E', 'EURO 6D-ISC-FCM', 'Y')\n",
      "(70, 'Mercedes-AMG', 'GLB', 'GLB 35 4MATIC', 'SUV', 'petrol', 'in-line', 4, 1.9, 'turbocharged', 'combustion engine', 5, 5, 'automatic', '8-speed', 'AWD', 306, 155, 31, 'nan', 'nan', '53,295', '37E-38E', 'EURO 6D-ISC-FCM', 'Y')\n",
      "(71, 'Mercedes-Benz', 'GLC', 'GLC 300 4MATIC', 'SUV', 'petrol', 'in-line', 4, 1.9, 'turbocharged', 'mild hybrid', 5, 5, 'automatic', '9-speed', 'AWD', 254, 149, 38, 'nan', 'nan', '53,755', '42E-43E', 'EURO 6D-ISC-FCM', 'Y')\n",
      "(72, 'Mercedes-Benz', 'GLC', 'GLC 220 d 4MATIC', 'SUV', 'diesel', 'in-line', 4, 1.9, 'turbocharged', 'mild hybrid', 5, 5, 'automatic', '9-speed', 'AWD', 194, 136, 52, 'nan', 'nan', '51,855', '40E-41E', 'EURO 6D-ISC-FCM', 'Y')\n",
      "(73, 'Mercedes-Benz', 'GLC', 'GLC 300 de 4MATIC', 'SUV', 'diesel', 'in-line', 4, 1.9, 'turbocharged', 'plug-in hybrid', 5, 5, 'automatic', '9-speed', 'AWD', 194, 135, 706, 86, 80, '64,460', '49E-50E', 'EURO 6D-ISC-FCM', 'Y')\n",
      "(74, 'Mercedes-Benz', 'GLC', 'GLC 300 4MATIC', 'coupe', 'petrol', 'in-line', 4, 1.9, 'turbocharged', 'mild hybrid', 5, 5, 'automatic', '9-speed', 'AWD', 258, 149, 33, 'nan', 'nan', '53,080', '37E-38E', 'EURO 6D-ISC-FCM', 'Y')\n",
      "(75, 'Mercedes-Benz', 'GLC', 'GLC 220 d 4MATIC', 'coupe', 'diesel', 'in-line', 4, 1.9, 'turbocharged', 'combustion engine', 5, 5, 'automatic', '9-speed', 'AWD', 194, 135, 44, 'nan', 'nan', '50,965', '32E-33E', 'EURO 6D-ISC-FCM', 'Y')\n",
      "(76, 'Mercedes-Benz', 'GLC', 'GLC 300 de 4MATIC', 'coupe', 'diesel', 'in-line', 4, 1.9, 'turbocharged', 'plug-in hybrid', 5, 5, 'automatic', '9-speed', 'AWD', 194, 143, 149, 144, 26, '56,920', '44E-45E', 'EURO 6D-ISC-FCM', 'Y')\n",
      "(77, 'Mercedes-AMG', 'GLC', 'GLC 43 4MATIC', 'coupe', 'petrol', 'V', 6, 2.9, 'turbocharged', 'combustion engine', 5, 5, 'automatic', '9-speed', 'AWD', 390, 155, 27, 'nan', 'nan', '62,230', '41E', 'EURO 6D-ISC-FCM', 'Y')\n",
      "(78, 'Mercedes-AMG', 'GLC', 'GLC 63 S 4MATIC+', 'coupe', 'petrol', 'V', 8, 3.9, 'turbocharged', 'combustion engine', 5, 5, 'automatic', '9-speed', 'AWD', 510, 174, 22, 'nan', 'nan', '99,960', '47E', 'EURO 6D-ISC-FCM', 'Y')\n",
      "(79, 'Mercedes-Benz', 'GLE', 'GLE 450 4MATIC', 'SUV', 'petrol', 'in-line', 6, 2.9, 'turbocharged', 'mild hybrid', 7, 5, 'automatic', '9-speed', 'AWD', 403, 155, 29, 'nan', 'nan', '81,965', 'tba', 'EURO 6D-ISC-FCM', 'Y')\n",
      "(80, 'Mercedes-Benz', 'GLE', 'GLE 450 d 4MATIC', 'SUV', 'diesel', 'in-line', 6, 2.9, 'turbocharged', 'mild hybrid', 7, 5, 'automatic', '9-speed', 'AWD', 389, 155, 35, 'nan', 'nan', '80,965', 'tba', 'EURO 6D-ISC-FCM', 'Y')\n",
      "(81, 'Mercedes-Benz', 'GLE', 'GLE 400 e 4MATIC', 'SUV', 'petrol', 'in-line', 4, 1.9, 'turbocharged', 'plug-in hybrid', 5, 5, 'automatic', '9-speed', 'AWD', 388, 130, 283, 74, 65, '87,505', 'tba', 'EURO 6D-ISC-FCM', 'Y')\n",
      "(82, 'Mercedes-Benz', 'GLE', 'GLE 450 d 4MATIC', 'coupe', 'diesel', 'in-line', 6, 2.9, 'turbocharged', 'mild hybrid', 5, 5, 'automatic', '9-speed', 'AWD', 367, 155, 20, 'nan', 'nan', '92,665', 'tba', 'EURO 6D-ISC-FCM', 'Y')\n",
      "(83, 'Mercedes-Benz', 'GLE', 'GLE 400 e 4MATIC', 'coupe', 'petrol', 'in-line', 4, 1.9, 'turbocharged', 'plug-in hybrid', 5, 5, 'automatic', '9-speed', 'AWD', 252, 130, 23, 'nan', 'nan', '95,455', 'tba', 'EURO 6D-ISC-FCM', 'Y')\n",
      "(84, 'Mercedes-Benz', 'GLS', 'GLS 400 d 4MATIC', 'SUV', 'diesel', 'in-line', 6, 2.9, 'turbocharged', 'combustion engine', 5, 5, 'automatic', '9-speed', 'AWD', 330, 148, 32, 'nan', 'nan', '88,500', '48E-49E', 'EURO 6D-ISC-FCM', 'Y')\n",
      "(85, 'Mercedes-AMG', 'GLS', 'GLS 63 4MATIC+', 'SUV', 'petrol', 'V', 8, 3.9, 'turbocharged', 'mild hybrid', 5, 5, 'automatic', '9-speed', 'AWD', 624, 155, 22, 'nan', 'nan', '140,595', '50E', 'EURO 6D-ISC-FCM', 'Y')\n",
      "(86, 'Mercedes-Maybach', 'GLS', 'GLS 600 4MATIC', 'SUV', 'petrol', 'V', 8, 3.9, 'turbocharged', 'mild hybrid', 5, 5, 'automatic', '9-speed', 'AWD', 579, 155, 21, 'nan', 'nan', '170,755', '50E', 'EURO 6D-ISC-FCM', 'Y')\n",
      "(87, 'Mercedes-Benz', 'G-Class', 'G 400 d', 'SUV', 'diesel', 'in-line', 6, 2.9, 'turbocharged', 'combustion engine', 5, 5, 'automatic', '9-speed', 'AWD', 330, 130, 26, 'nan', 'nan', '131,095', '50E', 'EURO 6D-ISC-FCM', 'Y')\n",
      "(88, 'Mercedes-AMG', 'G-Class', 'G 63', 'SUV', 'petrol', 'V', 8, 3.9, 'turbocharged', 'combustion engine', 5, 5, 'automatic', '9-speed', 'AWD', 585, 137, 18, 'nan', 'nan', '174,425', '50E', 'EURO 6D-ISC-FCM', 'Y')\n",
      "(89, 'Mercedes-Benz', 'CLA', 'CLA 180', 'coupe', 'petrol', 'in-line', 4, 1.3, 'turbocharged', 'combustion engine', 5, 5, 'automatic', '7-speed', 'FWD', 136, 134, 46, 'nan', 'nan', '36,220', '27E', 'EURO 6D-ISC-FCM', 'Y')\n",
      "(90, 'Mercedes-Benz', 'CLA', 'CLA 220 d', 'coupe', 'diesel', 'in-line', 4, 1.9, 'turbocharged', 'combustion engine', 5, 5, 'automatic', '8-speed', 'FWD', 190, 152, 57, 'nan', 'nan', '40,420', '34E', 'EURO 6D-ISC-FCM', 'Y')\n",
      "(91, 'Mercedes-Benz', 'CLA', 'CLA 250 e', 'coupe', 'petrol', 'in-line', 4, 1.3, 'turbocharged', 'plug-in hybrid', 5, 5, 'automatic', '8-speed', 'FWD', 262, 149, 283, 141, 40, '43,265', '38E-39E', 'EURO 6D-ISC-FCM', 'Y')\n",
      "(92, 'Mercedes-AMG', 'CLA', 'CLA 45 S 4MATIC+', 'coupe', 'petrol', 'in-line', 4, 1.9, 'turbocharged', 'combustion engine', 5, 5, 'automatic', '8-speed', 'AWD', 421, 168, 32, 'nan', 'nan', '63,515', '45E', 'EURO 6D-ISC-FCM', 'Y')\n",
      "(93, 'Mercedes-Benz', 'CLS', '400 d 4MATIC', 'coupe', 'diesel', 'in-line', 6, 2.9, 'turbocharged', 'combustion engine', 5, 5, 'automatic', '9-speed', 'AWD', 326, 155, 39, 'nan', 'nan', '75,440', '50E', 'EURO 6D-ISC-FCM', 'Y')\n",
      "(94, 'Mercedes-AMG', 'CLS', 'CLS 53 4MATIC+', 'coupe', 'petrol', 'in-line', 6, 2.9, 'turbocharged', 'mild hybrid', 5, 5, 'automatic', '9-speed', 'AWD', 457, 168, 30, 'nan', 'nan', '86,550', '50E', 'EURO 6D-ISC-FCM', 'Y')\n",
      "(95, 'Mercedes-AMG', 'GT', 'GT 63 S 4MATIC+', 'coupe', 'petrol', 'V', 8, 3.9, 'turbocharged', 'combustion engine', 5, 5, 'automatic', '9-speed', 'AWD', 639, 196, 21, 'nan', 'nan', '156,175', '50E', 'EURO 6D-ISC-FCM', 'Y')\n",
      "(96, 'Mercedes-AMG', 'GT', 'GT 63 S E', 'coupe', 'petrol', 'V', 8, 3.9, 'turbocharged', 'plug-in hybrid', 5, 5, 'automatic', '9-speed', 'AWD', 843, 196, 36, 203, 8, '178,705', '50E', 'EURO 6D-ISC-FCM', 'Y')\n",
      "(97, 'Mercedes-AMG', 'SL', 'SL 43', 'cabriolet', 'petrol', 'in-line', 4, 1.9, 'turbocharged', 'combustion engine', 4, 3, 'automatic', '9-speed', 'RWD', 381, 171, 31, 'nan', 'nan', '108,020', '50E', 'EURO 6D-ISC-FCM', 'Y')\n",
      "(98, 'Mercedes-AMG', 'SL', 'SL 63 4MATIC+', 'cabriolet', 'petrol', 'V', 8, 3.9, 'turbocharged', 'combustion engine', 4, 3, 'automatic', '9-speed', 'AWD', 585, 196, 22, 'nan', 'nan', '171,725', '50E', 'EURO 6D-ISC-FCM', 'Y')\n"
     ]
    }
   ],
   "source": [
    "select_all_models(create_connection(\"modelDB.db\"))"
   ]
  },
  {
   "cell_type": "code",
   "execution_count": 5,
   "metadata": {},
   "outputs": [],
   "source": [
    "# define function that queries db using one slot\n",
    "def select_by_slot(conn, slot_name, slot_value):\n",
    "    \"\"\"\n",
    "    Query all rows in the tasks table\n",
    "    :param conn: the Connection object\n",
    "    :return:\n",
    "    \"\"\"\n",
    "    cur = conn.cursor()\n",
    "    cur.execute(f\"\"\"SELECT * FROM mercedesmodels WHERE {slot_name}='{slot_value}'\"\"\")\n",
    "\n",
    "    rows = cur.fetchall()\n",
    "\n",
    "    for row in rows:\n",
    "        print(row)"
   ]
  },
  {
   "cell_type": "code",
   "execution_count": 6,
   "metadata": {},
   "outputs": [
    {
     "name": "stdout",
     "output_type": "stream",
     "text": [
      "(57, 'Mercedes-Benz', 'EQA', 'EQA 250+', 'SUV', 'electricity', 'nan', 'nan', 'nan', 'nan', 'electric', 5, 5, 'automatic', 'single-speed', 'FWD', 190, 99, 'nan', 137, 324, '52,010', '42-44', 'EU6', 'Y')\n",
      "(58, 'Mercedes-Benz', 'EQA', 'EQA 350 4MATIC', 'SUV', 'electricity', 'nan', 'nan', 'nan', 'nan', 'electric', 5, 5, 'automatic', 'single-speed', 'AWD', 292, 99, 'nan', 120, 268, '54,510', '47-48', 'EU6', 'Y')\n",
      "(59, 'Mercedes-Benz', 'EQB', 'EQB 300 4MATIC', 'SUV', 'electricity', 'nan', 'nan', 'nan', 'nan', 'electric', 5, 5, 'automatic', 'single-speed', 'AWD', 228, 99, 'nan', 116, 253, '55,310', '47-48', 'EU6', 'Y')\n",
      "(60, 'Mercedes-Benz', 'EQB', 'EQB 350 4MATIC', 'SUV', 'electricity', 'nan', 'nan', 'nan', 'nan', 'electric', 5, 5, 'automatic', 'single-speed', 'AWD', 292, 99, 'nan', 116, 253, '56,810', '47-48', 'EU6', 'Y')\n",
      "(61, 'Mercedes-Benz', 'EQC', 'EQC 400 4MATIC', 'SUV', 'electricity', 'nan', 'nan', 'nan', 'nan', 'electric', 5, 5, 'automatic', 'single-speed', 'AWD', 408, 112, 'nan', 98, 254, '74,330', '50E', 'EU6', 'Y')\n",
      "(62, 'Mercedes-Benz', 'EQE', 'EQE 350 4MATIC', 'SUV', 'electricity', 'nan', 'nan', 'nan', 'nan', 'electric', 5, 5, 'automatic', 'single-speed', 'AWD', 292, 130, 'nan', 113, 334, '90,560', '50E', 'EU7', 'Y')\n",
      "(63, 'Mercedes-Benz', 'EQE', 'EQE 500 4MATIC', 'SUV', 'electricity', 'nan', 'nan', 'nan', 'nan', 'electric', 5, 5, 'automatic', 'single-speed', 'AWD', 408, 130, 'nan', 110, 324, '108,760', '50E', 'EU8', 'Y')\n",
      "(64, 'Mercedes-Benz', 'GLA', 'GLA 200', 'SUV', 'petrol', 'in-line', 4, 1.3, 'turbocharged', 'combustion engine', 5, 5, 'automatic', '7-speed', 'FWD', 163, 130, 43, 'nan', 'nan', '37,645', '25E-27E', 'EURO 6D-ISC-FCM', 'Y')\n",
      "(65, 'Mercedes-Benz', 'GLA', 'GLA 250 e', 'SUV', 'petrol', 'in-line', 4, 1.3, 'turbocharged', 'plug-in hybrid', 5, 5, 'automatic', '8-speed', 'FWD', 262, 137, 50, 117, 39, '43,385', '36E-37E', 'EURO 6D-ISC-FCM', 'Y')\n",
      "(66, 'Mercedes-Benz', 'GLA', 'GLA 220 d 4MATIC', 'SUV', 'diesel', 'in-line', 4, 1.9, 'turbocharged', 'combustion engine', 5, 5, 'automatic', '8-speed', 'AWD', 190, 136, 202, 'nan', 'nan', '43,440', '31E-32E', 'EURO 6D-ISC-FCM', 'Y')\n",
      "(67, 'Mercedes-AMG', 'GLA', 'GLA 45 S 4MATIC+', 'SUV', 'petrol', 'in-line', 4, 1.9, 'turbocharged', 'combustion engine', 5, 5, 'automatic', '8-speed', 'AWD', 421, 165, 29, 'nan', 'nan', '69,005', '42E', 'EURO 6D-ISC-FCM', 'Y')\n",
      "(68, 'Mercedes-Benz', 'GLB', 'GLB 200', 'SUV', 'petrol', 'in-line', 4, 1.3, 'turbocharged', 'combustion engine', 5, 5, 'automatic', '7-speed', 'FWD', 163, 129, 39, 'nan', 'nan', '39,765', '24E-25E', 'EURO 6D-ISC-FCM', 'Y')\n",
      "(69, 'Mercedes-Benz', 'GLB', 'GLB 220 d 4MATIC', 'SUV', 'diesel', 'in-line', 4, 1.9, 'turbocharged', 'combustion engine', 5, 5, 'automatic', '8-speed', 'AWD', 190, 135, 48, 'nan', 'nan', '44,015', '30E-31E', 'EURO 6D-ISC-FCM', 'Y')\n",
      "(70, 'Mercedes-AMG', 'GLB', 'GLB 35 4MATIC', 'SUV', 'petrol', 'in-line', 4, 1.9, 'turbocharged', 'combustion engine', 5, 5, 'automatic', '8-speed', 'AWD', 306, 155, 31, 'nan', 'nan', '53,295', '37E-38E', 'EURO 6D-ISC-FCM', 'Y')\n",
      "(71, 'Mercedes-Benz', 'GLC', 'GLC 300 4MATIC', 'SUV', 'petrol', 'in-line', 4, 1.9, 'turbocharged', 'mild hybrid', 5, 5, 'automatic', '9-speed', 'AWD', 254, 149, 38, 'nan', 'nan', '53,755', '42E-43E', 'EURO 6D-ISC-FCM', 'Y')\n",
      "(72, 'Mercedes-Benz', 'GLC', 'GLC 220 d 4MATIC', 'SUV', 'diesel', 'in-line', 4, 1.9, 'turbocharged', 'mild hybrid', 5, 5, 'automatic', '9-speed', 'AWD', 194, 136, 52, 'nan', 'nan', '51,855', '40E-41E', 'EURO 6D-ISC-FCM', 'Y')\n",
      "(73, 'Mercedes-Benz', 'GLC', 'GLC 300 de 4MATIC', 'SUV', 'diesel', 'in-line', 4, 1.9, 'turbocharged', 'plug-in hybrid', 5, 5, 'automatic', '9-speed', 'AWD', 194, 135, 706, 86, 80, '64,460', '49E-50E', 'EURO 6D-ISC-FCM', 'Y')\n",
      "(79, 'Mercedes-Benz', 'GLE', 'GLE 450 4MATIC', 'SUV', 'petrol', 'in-line', 6, 2.9, 'turbocharged', 'mild hybrid', 7, 5, 'automatic', '9-speed', 'AWD', 403, 155, 29, 'nan', 'nan', '81,965', 'tba', 'EURO 6D-ISC-FCM', 'Y')\n",
      "(80, 'Mercedes-Benz', 'GLE', 'GLE 450 d 4MATIC', 'SUV', 'diesel', 'in-line', 6, 2.9, 'turbocharged', 'mild hybrid', 7, 5, 'automatic', '9-speed', 'AWD', 389, 155, 35, 'nan', 'nan', '80,965', 'tba', 'EURO 6D-ISC-FCM', 'Y')\n",
      "(81, 'Mercedes-Benz', 'GLE', 'GLE 400 e 4MATIC', 'SUV', 'petrol', 'in-line', 4, 1.9, 'turbocharged', 'plug-in hybrid', 5, 5, 'automatic', '9-speed', 'AWD', 388, 130, 283, 74, 65, '87,505', 'tba', 'EURO 6D-ISC-FCM', 'Y')\n",
      "(84, 'Mercedes-Benz', 'GLS', 'GLS 400 d 4MATIC', 'SUV', 'diesel', 'in-line', 6, 2.9, 'turbocharged', 'combustion engine', 5, 5, 'automatic', '9-speed', 'AWD', 330, 148, 32, 'nan', 'nan', '88,500', '48E-49E', 'EURO 6D-ISC-FCM', 'Y')\n",
      "(85, 'Mercedes-AMG', 'GLS', 'GLS 63 4MATIC+', 'SUV', 'petrol', 'V', 8, 3.9, 'turbocharged', 'mild hybrid', 5, 5, 'automatic', '9-speed', 'AWD', 624, 155, 22, 'nan', 'nan', '140,595', '50E', 'EURO 6D-ISC-FCM', 'Y')\n",
      "(86, 'Mercedes-Maybach', 'GLS', 'GLS 600 4MATIC', 'SUV', 'petrol', 'V', 8, 3.9, 'turbocharged', 'mild hybrid', 5, 5, 'automatic', '9-speed', 'AWD', 579, 155, 21, 'nan', 'nan', '170,755', '50E', 'EURO 6D-ISC-FCM', 'Y')\n",
      "(87, 'Mercedes-Benz', 'G-Class', 'G 400 d', 'SUV', 'diesel', 'in-line', 6, 2.9, 'turbocharged', 'combustion engine', 5, 5, 'automatic', '9-speed', 'AWD', 330, 130, 26, 'nan', 'nan', '131,095', '50E', 'EURO 6D-ISC-FCM', 'Y')\n",
      "(88, 'Mercedes-AMG', 'G-Class', 'G 63', 'SUV', 'petrol', 'V', 8, 3.9, 'turbocharged', 'combustion engine', 5, 5, 'automatic', '9-speed', 'AWD', 585, 137, 18, 'nan', 'nan', '174,425', '50E', 'EURO 6D-ISC-FCM', 'Y')\n"
     ]
    }
   ],
   "source": [
    "# select only where column in body_type and value is SUV\n",
    "select_by_slot(create_connection(\"modelDB.db\"), slot_name=\"body_type\", slot_value=\"SUV\")"
   ]
  },
  {
   "cell_type": "code",
   "execution_count": 11,
   "metadata": {},
   "outputs": [
    {
     "name": "stdout",
     "output_type": "stream",
     "text": [
      "Try the hatchback A-Class by Mercedes-Benz.\n",
      "Try the hatchback A-Class by Mercedes-Benz.\n",
      "Try the hatchback A-Class by Mercedes-Benz.\n",
      "Try the hatchback A-Class by Mercedes-AMG.\n",
      "Try the hatchback B-Class by Mercedes-Benz.\n",
      "Try the hatchback B-Class by Mercedes-Benz.\n"
     ]
    }
   ],
   "source": [
    "# define function that queries db using one slot and print out\n",
    "def select_by_slot_extend(conn, slot_name, slot_value):\n",
    "    \"\"\"\n",
    "    Query all rows in the tasks table\n",
    "    :param conn: the Connection object\n",
    "    :return:\n",
    "    \"\"\"\n",
    "    cur = conn.cursor()\n",
    "    cur.execute(f\"\"\"SELECT * FROM mercedesmodels WHERE {slot_name}='{slot_value}'\"\"\")\n",
    "    \n",
    "    rows = cur.fetchall()\n",
    "\n",
    "    if len(list(rows)) < 1:\n",
    "        print(\"There are no models matching your query.\")\n",
    "    else:\n",
    "        for row in rows:\n",
    "            print(f\"Try the {row[4]} {row[2]} by {row[1]}.\")\n",
    "\n",
    "select_by_slot_extend(create_connection(\"modelDB.db\"), slot_name=\"body_type\", slot_value=\"hatchback\")"
   ]
  },
  {
   "cell_type": "code",
   "execution_count": 5,
   "metadata": {},
   "outputs": [
    {
     "name": "stdout",
     "output_type": "stream",
     "text": [
      "Requirement already satisfied: fuzzywuzzy in c:\\users\\bisis\\appdata\\local\\programs\\python\\python39\\lib\\site-packages (0.18.0)\n",
      "Note: you may need to restart the kernel to use updated packages.\n"
     ]
    }
   ],
   "source": [
    "%pip install --upgrade fuzzywuzzy"
   ]
  }
 ],
 "metadata": {
  "kernelspec": {
   "display_name": "Python 3",
   "language": "python",
   "name": "python3"
  },
  "language_info": {
   "codemirror_mode": {
    "name": "ipython",
    "version": 3
   },
   "file_extension": ".py",
   "mimetype": "text/x-python",
   "name": "python",
   "nbconvert_exporter": "python",
   "pygments_lexer": "ipython3",
   "version": "3.9.13"
  },
  "orig_nbformat": 4
 },
 "nbformat": 4,
 "nbformat_minor": 2
}
